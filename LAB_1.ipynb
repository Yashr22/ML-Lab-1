{
 "cells": [
  {
   "attachments": {},
   "cell_type": "markdown",
   "id": "13ff04ff-2f03-4c1b-8f94-5c0fff5bbd24",
   "metadata": {},
   "source": [
    "# Question-1\n",
    "Write a Python code to build a deep neural network using Keras and compute a number of parameters, memory and FLOPs for the following model. Use relu activations functions in the hidden layers and sigmoid activations function in the output layers.\n",
    "\n",
    "\n",
    "CPU that performs 1 GFLOPS (1,000,000,000) per seconds and computes the inference time of the Deep neural network model.\n",
    "\n",
    "\n",
    "\n",
    "<img src=\"2.png\" width=\"700\" height=\"500\">\n"
   ]
  },
  {
   "attachments": {},
   "cell_type": "markdown",
   "id": "a3bbfd46-dc1d-403b-bde7-5daab5627172",
   "metadata": {},
   "source": [
    "##  Parameters calculation in Deep neural network \n",
    "\n",
    "The number of internal parameters in a neural network is the total number of weights + the total number of biases. The total number of weights equals the sum of the products of each pair of adjacent layers. The total number of biases equals the number of hidden neurons + the number of output neurons.\n",
    "\n",
    "## Model Size calculations\n",
    "\n",
    "\n",
    "Model Size (in bytes)=Number of Parameters×Bytes Per Parameter\n",
    "Model Size (in KB)=Model Size (in bytes)/1024 \n",
    "\n",
    "##  FLOPs calculation in Deep neural network \n",
    "FLOPs of  FC=2*(input size x output size )+(output size x activation)\n",
    "\n",
    "## Activation functions FLOPS for  Tensor Flow\n",
    "\n",
    "Relu  -->      1FLOPs\n",
    "\n",
    "Sigmoid   -->   1FLOPs\n",
    "\n",
    "Tanh   -->      1FLOPs\n",
    "\n",
    "Softmax    -->  6FLOPs\n",
    "\n",
    "## Infrences time calculations \n",
    "\n",
    "The inference time = FLOPs/FLOPS.\n",
    "\n",
    "FLOPs-> measures computational complexity of the model.\n",
    "\n",
    "FLOPS-> measures the hardware’s processing capability\n",
    "\n"
   ]
  },
  {
   "cell_type": "code",
   "execution_count": 56,
   "id": "50bc661c-0608-479a-a379-ce4f7a7a1712",
   "metadata": {},
   "outputs": [
    {
     "name": "stdout",
     "output_type": "stream",
     "text": [
      "Total number of parameters: 566273\n",
      "Model size: 2265092 bytes (2212.00390625 KB)\n",
      "Total FLOPs: 328706\n",
      "Inference time:  0.0003287060 seconds\n"
     ]
    }
   ],
   "source": [
    "### Write  your code here \n",
    "import tensorflow as tf\n",
    "from tensorflow.keras import layers, models\n",
    "import numpy as np\n",
    "\n",
    "# Define the model\n",
    "def build_model():\n",
    "    model = models.Sequential()    \n",
    "    model.add(layers.InputLayer(input_shape=(784,)))\n",
    "    model.add(layers.Dense(512, activation='relu'))\n",
    "    model.add(layers.Dense(256, activation='relu'))\n",
    "    model.add(layers.Dense(128, activation='relu'))\n",
    "    model.add(layers.Dense(1, activation='sigmoid'))\n",
    "    return model\n",
    "\n",
    "# Function to calculate the number of parameters\n",
    "def calculate_parameters(model):\n",
    "    total_params = 0\n",
    "    for layer in model.layers:\n",
    "        if isinstance(layer, layers.Dense):\n",
    "            weights = np.prod(layer.kernel.shape)\n",
    "            biases = np.prod(layer.bias.shape)\n",
    "            total_params += weights + biases\n",
    "    return total_params\n",
    "\n",
    "# Function to calculate the model size in bytes and KB\n",
    "def calculate_model_size(total_params, bytes_per_param=4):\n",
    "    model_size_bytes = total_params * bytes_per_param\n",
    "    model_size_kb = model_size_bytes / 1024\n",
    "    return model_size_bytes, model_size_kb\n",
    "\n",
    "# Function to calculate FLOPs\n",
    "def calculate_flops(model):\n",
    "    flops = 0\n",
    "    for i in range(len(model.layers) - 1):\n",
    "        if isinstance(model.layers[i], layers.Dense) and isinstance(model.layers[i+1], layers.Dense):\n",
    "            input_size = model.layers[i].units\n",
    "            output_size = model.layers[i+1].units\n",
    "            flops += 2 * (input_size * output_size) + output_size  # FLOPs for FC layer\n",
    "            if model.layers[i+1].activation == tf.keras.activations.relu:\n",
    "                flops += output_size  # FLOPs for ReLU activation\n",
    "            elif model.layers[i+1].activation == tf.keras.activations.sigmoid:\n",
    "                flops += output_size  # FLOPs for Sigmoid activation\n",
    "    return flops\n",
    "\n",
    "# Function to calculate inference time\n",
    "def calculate_inference_time(flops, flops_per_second=1e9):\n",
    "    inference_time = flops / flops_per_second\n",
    "    return inference_time\n",
    "\n",
    "# Build the model\n",
    "model = build_model()\n",
    "\n",
    "# Calculate the number of parameters\n",
    "total_params = calculate_parameters(model)\n",
    "print(f\"Total number of parameters: {total_params}\")\n",
    "\n",
    "# Calculate the model size\n",
    "model_size_bytes, model_size_kb = calculate_model_size(total_params)\n",
    "print(f\"Model size: {model_size_bytes} bytes ({model_size_kb} KB)\")\n",
    "\n",
    "# Calculate FLOPs\n",
    "flops = calculate_flops(model)\n",
    "print(f\"Total FLOPs: {flops}\")\n",
    "\n",
    "# Calculate inference time\n",
    "inference_time = calculate_inference_time(flops)\n",
    "print(f\"Inference time: {inference_time: .10f} seconds\")"
   ]
  },
  {
   "attachments": {},
   "cell_type": "markdown",
   "id": "dcca70a6-efbd-4ec7-a94c-2fc83072a07b",
   "metadata": {},
   "source": [
    "# Question-2\n",
    "Write a Python code to build a deep neural network using Keras and compute a number of parameters, memory and FLOPs for the following model. Use relu activations functions in the hidden layers and softmax activations function in the output layers. Write a Python code plot  the bar graph of the question 1 and question 2 output and compare.\n",
    "\n",
    "\n",
    "\n",
    "<img src=\"1.png\" width=\"700\" height=\"500\">"
   ]
  },
  {
   "cell_type": "code",
   "execution_count": 57,
   "id": "1a795d48-531a-4917-b708-dd9af3f2f2cd",
   "metadata": {},
   "outputs": [
    {
     "name": "stdout",
     "output_type": "stream",
     "text": [
      "Total number of parameters: 567434\n",
      "Model size: 2269736 bytes (2216.5390625 KB)\n",
      "Total FLOPs: 1134918\n",
      "Inference time:  0.0011349180 seconds\n"
     ]
    }
   ],
   "source": [
    "### Write  your code here \n",
    "import tensorflow as tf\n",
    "from tensorflow.keras import layers, models\n",
    "import numpy as np\n",
    "import matplotlib.pyplot as plt\n",
    "\n",
    "# Define the model\n",
    "def build_model():\n",
    "    model = models.Sequential()    \n",
    "    model.add(layers.InputLayer(input_shape=(784,)))\n",
    "    model.add(layers.Dense(512, activation='relu'))\n",
    "    model.add(layers.Dense(256, activation='relu'))\n",
    "    model.add(layers.Dense(128, activation='relu'))\n",
    "    model.add(layers.Dense(10, activation='softmax'))\n",
    "    \n",
    "    return model\n",
    "\n",
    "# Function to calculate the number of parameters\n",
    "def calculate_parameters(model):\n",
    "    total_params = 0\n",
    "    for layer in model.layers:\n",
    "        if isinstance(layer, layers.Dense):\n",
    "            weights = np.prod(layer.kernel.shape)\n",
    "            biases = np.prod(layer.bias.shape)\n",
    "            total_params += weights + biases\n",
    "    return total_params\n",
    "\n",
    "# Function to calculate the model size in bytes and KB\n",
    "def calculate_model_size(total_params, bytes_per_param=4):\n",
    "    model_size_bytes = total_params * bytes_per_param\n",
    "    model_size_kb = model_size_bytes / 1024\n",
    "    return model_size_bytes, model_size_kb\n",
    "\n",
    "# Function to calculate FLOPs\n",
    "def calculate_flops(model):\n",
    "    flops = 0\n",
    "    previous_layer_units = 784  # Input layer size\n",
    "    for layer in model.layers:\n",
    "        if isinstance(layer, layers.Dense):\n",
    "            current_layer_units = layer.units\n",
    "            flops += 2 * (previous_layer_units * current_layer_units) + current_layer_units  # FLOPs for FC layer\n",
    "            if layer.activation == tf.keras.activations.relu:\n",
    "                flops += current_layer_units  # FLOPs for ReLU activation\n",
    "            elif layer.activation == tf.keras.activations.softmax:\n",
    "                flops += 6 * current_layer_units  # FLOPs for Softmax activation\n",
    "            previous_layer_units = current_layer_units\n",
    "    return flops\n",
    "\n",
    "# Function to calculate inference time\n",
    "def calculate_inference_time(flops, flops_per_second=1e9):\n",
    "    inference_time = flops / flops_per_second\n",
    "    return inference_time\n",
    "\n",
    "# Build the model\n",
    "model = build_model()\n",
    "\n",
    "# Calculate the number of parameters\n",
    "total_params = calculate_parameters(model)\n",
    "print(f\"Total number of parameters: {total_params}\")\n",
    "\n",
    "# Calculate the model size\n",
    "model_size_bytes, model_size_kb = calculate_model_size(total_params)\n",
    "print(f\"Model size: {model_size_bytes} bytes ({model_size_kb} KB)\")\n",
    "\n",
    "# Calculate FLOPs\n",
    "flops = calculate_flops(model)\n",
    "print(f\"Total FLOPs: {flops}\")\n",
    "\n",
    "# Calculate inference time\n",
    "inference_time = calculate_inference_time(flops)\n",
    "print(f\"Inference time: {inference_time: .10f} seconds\")"
   ]
  },
  {
   "attachments": {},
   "cell_type": "markdown",
   "id": "96f4995f-d746-4d7d-98eb-5cf732c02fac",
   "metadata": {},
   "source": [
    "## Output Dimensions Formula for 2D Convolution \n",
    "<img src=\"10.png\" width=\"600\" height=\"400\">\n",
    "\n",
    "## Parameter calculation of 2DCNN\n",
    "\n",
    "\n",
    "<img src=\"4.png\" width=\"400\" height=\"200\">\n",
    "\n",
    "## FLOPs calculation of 2DCNN\n",
    "<img src=\"6.png\" width=\"600\" height=\"400\">\n",
    "\n",
    "\n",
    "\n",
    "## FLOPs calculation for Pooling Layers\n",
    "<img src=\"12.png\" width=\"600\" height=\"400\">\n"
   ]
  },
  {
   "cell_type": "markdown",
   "id": "bec5bed0-e48b-472c-82d8-c84fcb7bb443",
   "metadata": {},
   "source": [
    "# Question-3\n",
    "\n",
    "Write a Python code build 2DCNN model for the following specifications using Keras and compute the number of parameters ,model size and FLOPs\n",
    "\n",
    "The model architecture consists of several layers designed for image classification tasks, such as recognizing digits from the MNIST dataset. The architecture begins with a 2D convolutional layer (Conv2D), which applies 32 filters of size 3x3 to the input image (28x28x1), followed by the ReLU activation function to introduce non-linearity. This is followed by a max-pooling layer (MaxPooling2D) with a pool size of 2x2, reducing the spatial dimensions of the feature maps while retaining important information. A second convolutional layer with 64 filters of size 3x3 is then applied, again using ReLU activation. Another max-pooling layer  (2x2 ) follows to further downsample the feature maps. The output of the convolutional layers is then flattened into a one-dimensional vector using the Flatten layer, which is fed into the fully connected dense layers. The first dense layer has 64 neurons with ReLU activation, allowing the model to learn complex representations, while the final dense layer has 10 neurons with a softmax activation function, providing probabilities for each of the 10 possible digit classes.\n"
   ]
  },
  {
   "cell_type": "code",
   "execution_count": 19,
   "id": "0140dc76-f695-41d3-bd81-b0627fd9950e",
   "metadata": {},
   "outputs": [
    {
     "data": {
      "text/html": [
       "<pre style=\"white-space:pre;overflow-x:auto;line-height:normal;font-family:Menlo,'DejaVu Sans Mono',consolas,'Courier New',monospace\"><span style=\"font-weight: bold\">Model: \"sequential_18\"</span>\n",
       "</pre>\n"
      ],
      "text/plain": [
       "\u001b[1mModel: \"sequential_18\"\u001b[0m\n"
      ]
     },
     "metadata": {},
     "output_type": "display_data"
    },
    {
     "data": {
      "text/html": [
       "<pre style=\"white-space:pre;overflow-x:auto;line-height:normal;font-family:Menlo,'DejaVu Sans Mono',consolas,'Courier New',monospace\">┏━━━━━━━━━━━━━━━━━━━━━━━━━━━━━━━━━━━━━━┳━━━━━━━━━━━━━━━━━━━━━━━━━━━━━┳━━━━━━━━━━━━━━━━━┓\n",
       "┃<span style=\"font-weight: bold\"> Layer (type)                         </span>┃<span style=\"font-weight: bold\"> Output Shape                </span>┃<span style=\"font-weight: bold\">         Param # </span>┃\n",
       "┡━━━━━━━━━━━━━━━━━━━━━━━━━━━━━━━━━━━━━━╇━━━━━━━━━━━━━━━━━━━━━━━━━━━━━╇━━━━━━━━━━━━━━━━━┩\n",
       "│ conv2d_26 (<span style=\"color: #0087ff; text-decoration-color: #0087ff\">Conv2D</span>)                   │ (<span style=\"color: #00d7ff; text-decoration-color: #00d7ff\">None</span>, <span style=\"color: #00af00; text-decoration-color: #00af00\">26</span>, <span style=\"color: #00af00; text-decoration-color: #00af00\">26</span>, <span style=\"color: #00af00; text-decoration-color: #00af00\">32</span>)          │             <span style=\"color: #00af00; text-decoration-color: #00af00\">320</span> │\n",
       "├──────────────────────────────────────┼─────────────────────────────┼─────────────────┤\n",
       "│ max_pooling2d_26 (<span style=\"color: #0087ff; text-decoration-color: #0087ff\">MaxPooling2D</span>)      │ (<span style=\"color: #00d7ff; text-decoration-color: #00d7ff\">None</span>, <span style=\"color: #00af00; text-decoration-color: #00af00\">13</span>, <span style=\"color: #00af00; text-decoration-color: #00af00\">13</span>, <span style=\"color: #00af00; text-decoration-color: #00af00\">32</span>)          │               <span style=\"color: #00af00; text-decoration-color: #00af00\">0</span> │\n",
       "├──────────────────────────────────────┼─────────────────────────────┼─────────────────┤\n",
       "│ conv2d_27 (<span style=\"color: #0087ff; text-decoration-color: #0087ff\">Conv2D</span>)                   │ (<span style=\"color: #00d7ff; text-decoration-color: #00d7ff\">None</span>, <span style=\"color: #00af00; text-decoration-color: #00af00\">11</span>, <span style=\"color: #00af00; text-decoration-color: #00af00\">11</span>, <span style=\"color: #00af00; text-decoration-color: #00af00\">64</span>)          │          <span style=\"color: #00af00; text-decoration-color: #00af00\">18,496</span> │\n",
       "├──────────────────────────────────────┼─────────────────────────────┼─────────────────┤\n",
       "│ max_pooling2d_27 (<span style=\"color: #0087ff; text-decoration-color: #0087ff\">MaxPooling2D</span>)      │ (<span style=\"color: #00d7ff; text-decoration-color: #00d7ff\">None</span>, <span style=\"color: #00af00; text-decoration-color: #00af00\">5</span>, <span style=\"color: #00af00; text-decoration-color: #00af00\">5</span>, <span style=\"color: #00af00; text-decoration-color: #00af00\">64</span>)            │               <span style=\"color: #00af00; text-decoration-color: #00af00\">0</span> │\n",
       "├──────────────────────────────────────┼─────────────────────────────┼─────────────────┤\n",
       "│ flatten_13 (<span style=\"color: #0087ff; text-decoration-color: #0087ff\">Flatten</span>)                 │ (<span style=\"color: #00d7ff; text-decoration-color: #00d7ff\">None</span>, <span style=\"color: #00af00; text-decoration-color: #00af00\">1600</span>)                │               <span style=\"color: #00af00; text-decoration-color: #00af00\">0</span> │\n",
       "├──────────────────────────────────────┼─────────────────────────────┼─────────────────┤\n",
       "│ dense_46 (<span style=\"color: #0087ff; text-decoration-color: #0087ff\">Dense</span>)                     │ (<span style=\"color: #00d7ff; text-decoration-color: #00d7ff\">None</span>, <span style=\"color: #00af00; text-decoration-color: #00af00\">64</span>)                  │         <span style=\"color: #00af00; text-decoration-color: #00af00\">102,464</span> │\n",
       "├──────────────────────────────────────┼─────────────────────────────┼─────────────────┤\n",
       "│ dense_47 (<span style=\"color: #0087ff; text-decoration-color: #0087ff\">Dense</span>)                     │ (<span style=\"color: #00d7ff; text-decoration-color: #00d7ff\">None</span>, <span style=\"color: #00af00; text-decoration-color: #00af00\">10</span>)                  │             <span style=\"color: #00af00; text-decoration-color: #00af00\">650</span> │\n",
       "└──────────────────────────────────────┴─────────────────────────────┴─────────────────┘\n",
       "</pre>\n"
      ],
      "text/plain": [
       "┏━━━━━━━━━━━━━━━━━━━━━━━━━━━━━━━━━━━━━━┳━━━━━━━━━━━━━━━━━━━━━━━━━━━━━┳━━━━━━━━━━━━━━━━━┓\n",
       "┃\u001b[1m \u001b[0m\u001b[1mLayer (type)                        \u001b[0m\u001b[1m \u001b[0m┃\u001b[1m \u001b[0m\u001b[1mOutput Shape               \u001b[0m\u001b[1m \u001b[0m┃\u001b[1m \u001b[0m\u001b[1m        Param #\u001b[0m\u001b[1m \u001b[0m┃\n",
       "┡━━━━━━━━━━━━━━━━━━━━━━━━━━━━━━━━━━━━━━╇━━━━━━━━━━━━━━━━━━━━━━━━━━━━━╇━━━━━━━━━━━━━━━━━┩\n",
       "│ conv2d_26 (\u001b[38;5;33mConv2D\u001b[0m)                   │ (\u001b[38;5;45mNone\u001b[0m, \u001b[38;5;34m26\u001b[0m, \u001b[38;5;34m26\u001b[0m, \u001b[38;5;34m32\u001b[0m)          │             \u001b[38;5;34m320\u001b[0m │\n",
       "├──────────────────────────────────────┼─────────────────────────────┼─────────────────┤\n",
       "│ max_pooling2d_26 (\u001b[38;5;33mMaxPooling2D\u001b[0m)      │ (\u001b[38;5;45mNone\u001b[0m, \u001b[38;5;34m13\u001b[0m, \u001b[38;5;34m13\u001b[0m, \u001b[38;5;34m32\u001b[0m)          │               \u001b[38;5;34m0\u001b[0m │\n",
       "├──────────────────────────────────────┼─────────────────────────────┼─────────────────┤\n",
       "│ conv2d_27 (\u001b[38;5;33mConv2D\u001b[0m)                   │ (\u001b[38;5;45mNone\u001b[0m, \u001b[38;5;34m11\u001b[0m, \u001b[38;5;34m11\u001b[0m, \u001b[38;5;34m64\u001b[0m)          │          \u001b[38;5;34m18,496\u001b[0m │\n",
       "├──────────────────────────────────────┼─────────────────────────────┼─────────────────┤\n",
       "│ max_pooling2d_27 (\u001b[38;5;33mMaxPooling2D\u001b[0m)      │ (\u001b[38;5;45mNone\u001b[0m, \u001b[38;5;34m5\u001b[0m, \u001b[38;5;34m5\u001b[0m, \u001b[38;5;34m64\u001b[0m)            │               \u001b[38;5;34m0\u001b[0m │\n",
       "├──────────────────────────────────────┼─────────────────────────────┼─────────────────┤\n",
       "│ flatten_13 (\u001b[38;5;33mFlatten\u001b[0m)                 │ (\u001b[38;5;45mNone\u001b[0m, \u001b[38;5;34m1600\u001b[0m)                │               \u001b[38;5;34m0\u001b[0m │\n",
       "├──────────────────────────────────────┼─────────────────────────────┼─────────────────┤\n",
       "│ dense_46 (\u001b[38;5;33mDense\u001b[0m)                     │ (\u001b[38;5;45mNone\u001b[0m, \u001b[38;5;34m64\u001b[0m)                  │         \u001b[38;5;34m102,464\u001b[0m │\n",
       "├──────────────────────────────────────┼─────────────────────────────┼─────────────────┤\n",
       "│ dense_47 (\u001b[38;5;33mDense\u001b[0m)                     │ (\u001b[38;5;45mNone\u001b[0m, \u001b[38;5;34m10\u001b[0m)                  │             \u001b[38;5;34m650\u001b[0m │\n",
       "└──────────────────────────────────────┴─────────────────────────────┴─────────────────┘\n"
      ]
     },
     "metadata": {},
     "output_type": "display_data"
    },
    {
     "data": {
      "text/html": [
       "<pre style=\"white-space:pre;overflow-x:auto;line-height:normal;font-family:Menlo,'DejaVu Sans Mono',consolas,'Courier New',monospace\"><span style=\"font-weight: bold\"> Total params: </span><span style=\"color: #00af00; text-decoration-color: #00af00\">121,930</span> (476.29 KB)\n",
       "</pre>\n"
      ],
      "text/plain": [
       "\u001b[1m Total params: \u001b[0m\u001b[38;5;34m121,930\u001b[0m (476.29 KB)\n"
      ]
     },
     "metadata": {},
     "output_type": "display_data"
    },
    {
     "data": {
      "text/html": [
       "<pre style=\"white-space:pre;overflow-x:auto;line-height:normal;font-family:Menlo,'DejaVu Sans Mono',consolas,'Courier New',monospace\"><span style=\"font-weight: bold\"> Trainable params: </span><span style=\"color: #00af00; text-decoration-color: #00af00\">121,930</span> (476.29 KB)\n",
       "</pre>\n"
      ],
      "text/plain": [
       "\u001b[1m Trainable params: \u001b[0m\u001b[38;5;34m121,930\u001b[0m (476.29 KB)\n"
      ]
     },
     "metadata": {},
     "output_type": "display_data"
    },
    {
     "data": {
      "text/html": [
       "<pre style=\"white-space:pre;overflow-x:auto;line-height:normal;font-family:Menlo,'DejaVu Sans Mono',consolas,'Courier New',monospace\"><span style=\"font-weight: bold\"> Non-trainable params: </span><span style=\"color: #00af00; text-decoration-color: #00af00\">0</span> (0.00 B)\n",
       "</pre>\n"
      ],
      "text/plain": [
       "\u001b[1m Non-trainable params: \u001b[0m\u001b[38;5;34m0\u001b[0m (0.00 B)\n"
      ]
     },
     "metadata": {},
     "output_type": "display_data"
    },
    {
     "name": "stdout",
     "output_type": "stream",
     "text": [
      "Total number of parameters: 121930\n",
      "Model size: 0.47 MB\n",
      "Total FLOPs: 5113532\n"
     ]
    }
   ],
   "source": [
    "import tensorflow as tf\n",
    "from tensorflow.keras import layers, models\n",
    "from tensorflow.keras.layers import Conv2D, MaxPooling2D, Flatten, Dense\n",
    "\n",
    "# Define the model\n",
    "def build_2d_cnn_model():\n",
    "    model = models.Sequential()\n",
    "    model.add(Conv2D(32, (3, 3), activation='relu', input_shape=(28, 28, 1)))\n",
    "    model.add(MaxPooling2D((2, 2)))\n",
    "    model.add(Conv2D(64, (3, 3), activation='relu'))\n",
    "    model.add(MaxPooling2D((2, 2)))\n",
    "    model.add(Flatten())\n",
    "    model.add(Dense(64, activation='relu'))\n",
    "    model.add(Dense(10, activation='softmax'))\n",
    "\n",
    "    return model\n",
    "\n",
    "# Build the model\n",
    "model = build_2d_cnn_model()\n",
    "model.summary()\n",
    "\n",
    "# Compute the number of parameters\n",
    "total_params = model.count_params()\n",
    "print(f\"Total number of parameters: {total_params}\")\n",
    "\n",
    "# Compute the model size (in MB)\n",
    "model_size_mb = (total_params * 4) / (1024 * 1024)  # Assuming 32-bit floats (4 bytes per parameter)\n",
    "print(f\"Model size: {model_size_mb:.2f} MB\")\n",
    "\n",
    "# FLOPs computation using TensorFlow profiler\n",
    "def get_flops(model):\n",
    "    # Convert the model to a concrete function\n",
    "    concrete_func = tf.function(lambda x: model(x))\n",
    "    concrete_func = concrete_func.get_concrete_function(\n",
    "        tf.TensorSpec([1, 28, 28, 1], tf.float32)\n",
    "    )\n",
    "\n",
    "    # Run the TensorFlow profiler to get FLOPs\n",
    "    from tensorflow.python.profiler import model_analyzer\n",
    "    from tensorflow.python.profiler.option_builder import ProfileOptionBuilder\n",
    "\n",
    "    profiler_options = ProfileOptionBuilder.float_operation()\n",
    "    graph_info = model_analyzer.profile(\n",
    "        graph=concrete_func.graph, options=profiler_options\n",
    "    )\n",
    "\n",
    "    return graph_info.total_float_ops\n",
    "\n",
    "flops = get_flops(model)\n",
    "print(f\"Total FLOPs: {flops}\")\n"
   ]
  },
  {
   "attachments": {},
   "cell_type": "markdown",
   "id": "07efdcc1-e0dc-493a-9a6a-e76c2e6b4920",
   "metadata": {},
   "source": [
    "# Question-4\n",
    "Write a Python code to build CNN using Keras and compute a  number of parameters,memory and FLOPs for the following model.\n",
    "\n",
    "\n",
    "\n",
    "\n",
    "\n",
    "<img src=\"3.jpg\" width=\"900\" height=\"700\">"
   ]
  },
  {
   "cell_type": "code",
   "execution_count": 21,
   "id": "297ed5e3-c963-43c6-a6ea-063fffe67231",
   "metadata": {},
   "outputs": [
    {
     "data": {
      "text/html": [
       "<pre style=\"white-space:pre;overflow-x:auto;line-height:normal;font-family:Menlo,'DejaVu Sans Mono',consolas,'Courier New',monospace\"><span style=\"font-weight: bold\">Model: \"sequential_20\"</span>\n",
       "</pre>\n"
      ],
      "text/plain": [
       "\u001b[1mModel: \"sequential_20\"\u001b[0m\n"
      ]
     },
     "metadata": {},
     "output_type": "display_data"
    },
    {
     "data": {
      "text/html": [
       "<pre style=\"white-space:pre;overflow-x:auto;line-height:normal;font-family:Menlo,'DejaVu Sans Mono',consolas,'Courier New',monospace\">┏━━━━━━━━━━━━━━━━━━━━━━━━━━━━━━━━━━━━━━┳━━━━━━━━━━━━━━━━━━━━━━━━━━━━━┳━━━━━━━━━━━━━━━━━┓\n",
       "┃<span style=\"font-weight: bold\"> Layer (type)                         </span>┃<span style=\"font-weight: bold\"> Output Shape                </span>┃<span style=\"font-weight: bold\">         Param # </span>┃\n",
       "┡━━━━━━━━━━━━━━━━━━━━━━━━━━━━━━━━━━━━━━╇━━━━━━━━━━━━━━━━━━━━━━━━━━━━━╇━━━━━━━━━━━━━━━━━┩\n",
       "│ conv2d_31 (<span style=\"color: #0087ff; text-decoration-color: #0087ff\">Conv2D</span>)                   │ (<span style=\"color: #00d7ff; text-decoration-color: #00d7ff\">None</span>, <span style=\"color: #00af00; text-decoration-color: #00af00\">30</span>, <span style=\"color: #00af00; text-decoration-color: #00af00\">30</span>, <span style=\"color: #00af00; text-decoration-color: #00af00\">32</span>)          │             <span style=\"color: #00af00; text-decoration-color: #00af00\">896</span> │\n",
       "├──────────────────────────────────────┼─────────────────────────────┼─────────────────┤\n",
       "│ max_pooling2d_30 (<span style=\"color: #0087ff; text-decoration-color: #0087ff\">MaxPooling2D</span>)      │ (<span style=\"color: #00d7ff; text-decoration-color: #00d7ff\">None</span>, <span style=\"color: #00af00; text-decoration-color: #00af00\">15</span>, <span style=\"color: #00af00; text-decoration-color: #00af00\">15</span>, <span style=\"color: #00af00; text-decoration-color: #00af00\">32</span>)          │               <span style=\"color: #00af00; text-decoration-color: #00af00\">0</span> │\n",
       "├──────────────────────────────────────┼─────────────────────────────┼─────────────────┤\n",
       "│ conv2d_32 (<span style=\"color: #0087ff; text-decoration-color: #0087ff\">Conv2D</span>)                   │ (<span style=\"color: #00d7ff; text-decoration-color: #00d7ff\">None</span>, <span style=\"color: #00af00; text-decoration-color: #00af00\">13</span>, <span style=\"color: #00af00; text-decoration-color: #00af00\">13</span>, <span style=\"color: #00af00; text-decoration-color: #00af00\">64</span>)          │          <span style=\"color: #00af00; text-decoration-color: #00af00\">18,496</span> │\n",
       "├──────────────────────────────────────┼─────────────────────────────┼─────────────────┤\n",
       "│ max_pooling2d_31 (<span style=\"color: #0087ff; text-decoration-color: #0087ff\">MaxPooling2D</span>)      │ (<span style=\"color: #00d7ff; text-decoration-color: #00d7ff\">None</span>, <span style=\"color: #00af00; text-decoration-color: #00af00\">6</span>, <span style=\"color: #00af00; text-decoration-color: #00af00\">6</span>, <span style=\"color: #00af00; text-decoration-color: #00af00\">64</span>)            │               <span style=\"color: #00af00; text-decoration-color: #00af00\">0</span> │\n",
       "├──────────────────────────────────────┼─────────────────────────────┼─────────────────┤\n",
       "│ conv2d_33 (<span style=\"color: #0087ff; text-decoration-color: #0087ff\">Conv2D</span>)                   │ (<span style=\"color: #00d7ff; text-decoration-color: #00d7ff\">None</span>, <span style=\"color: #00af00; text-decoration-color: #00af00\">4</span>, <span style=\"color: #00af00; text-decoration-color: #00af00\">4</span>, <span style=\"color: #00af00; text-decoration-color: #00af00\">128</span>)           │          <span style=\"color: #00af00; text-decoration-color: #00af00\">73,856</span> │\n",
       "├──────────────────────────────────────┼─────────────────────────────┼─────────────────┤\n",
       "│ flatten_15 (<span style=\"color: #0087ff; text-decoration-color: #0087ff\">Flatten</span>)                 │ (<span style=\"color: #00d7ff; text-decoration-color: #00d7ff\">None</span>, <span style=\"color: #00af00; text-decoration-color: #00af00\">2048</span>)                │               <span style=\"color: #00af00; text-decoration-color: #00af00\">0</span> │\n",
       "├──────────────────────────────────────┼─────────────────────────────┼─────────────────┤\n",
       "│ dense_50 (<span style=\"color: #0087ff; text-decoration-color: #0087ff\">Dense</span>)                     │ (<span style=\"color: #00d7ff; text-decoration-color: #00d7ff\">None</span>, <span style=\"color: #00af00; text-decoration-color: #00af00\">128</span>)                 │         <span style=\"color: #00af00; text-decoration-color: #00af00\">262,272</span> │\n",
       "├──────────────────────────────────────┼─────────────────────────────┼─────────────────┤\n",
       "│ dense_51 (<span style=\"color: #0087ff; text-decoration-color: #0087ff\">Dense</span>)                     │ (<span style=\"color: #00d7ff; text-decoration-color: #00d7ff\">None</span>, <span style=\"color: #00af00; text-decoration-color: #00af00\">10</span>)                  │           <span style=\"color: #00af00; text-decoration-color: #00af00\">1,290</span> │\n",
       "└──────────────────────────────────────┴─────────────────────────────┴─────────────────┘\n",
       "</pre>\n"
      ],
      "text/plain": [
       "┏━━━━━━━━━━━━━━━━━━━━━━━━━━━━━━━━━━━━━━┳━━━━━━━━━━━━━━━━━━━━━━━━━━━━━┳━━━━━━━━━━━━━━━━━┓\n",
       "┃\u001b[1m \u001b[0m\u001b[1mLayer (type)                        \u001b[0m\u001b[1m \u001b[0m┃\u001b[1m \u001b[0m\u001b[1mOutput Shape               \u001b[0m\u001b[1m \u001b[0m┃\u001b[1m \u001b[0m\u001b[1m        Param #\u001b[0m\u001b[1m \u001b[0m┃\n",
       "┡━━━━━━━━━━━━━━━━━━━━━━━━━━━━━━━━━━━━━━╇━━━━━━━━━━━━━━━━━━━━━━━━━━━━━╇━━━━━━━━━━━━━━━━━┩\n",
       "│ conv2d_31 (\u001b[38;5;33mConv2D\u001b[0m)                   │ (\u001b[38;5;45mNone\u001b[0m, \u001b[38;5;34m30\u001b[0m, \u001b[38;5;34m30\u001b[0m, \u001b[38;5;34m32\u001b[0m)          │             \u001b[38;5;34m896\u001b[0m │\n",
       "├──────────────────────────────────────┼─────────────────────────────┼─────────────────┤\n",
       "│ max_pooling2d_30 (\u001b[38;5;33mMaxPooling2D\u001b[0m)      │ (\u001b[38;5;45mNone\u001b[0m, \u001b[38;5;34m15\u001b[0m, \u001b[38;5;34m15\u001b[0m, \u001b[38;5;34m32\u001b[0m)          │               \u001b[38;5;34m0\u001b[0m │\n",
       "├──────────────────────────────────────┼─────────────────────────────┼─────────────────┤\n",
       "│ conv2d_32 (\u001b[38;5;33mConv2D\u001b[0m)                   │ (\u001b[38;5;45mNone\u001b[0m, \u001b[38;5;34m13\u001b[0m, \u001b[38;5;34m13\u001b[0m, \u001b[38;5;34m64\u001b[0m)          │          \u001b[38;5;34m18,496\u001b[0m │\n",
       "├──────────────────────────────────────┼─────────────────────────────┼─────────────────┤\n",
       "│ max_pooling2d_31 (\u001b[38;5;33mMaxPooling2D\u001b[0m)      │ (\u001b[38;5;45mNone\u001b[0m, \u001b[38;5;34m6\u001b[0m, \u001b[38;5;34m6\u001b[0m, \u001b[38;5;34m64\u001b[0m)            │               \u001b[38;5;34m0\u001b[0m │\n",
       "├──────────────────────────────────────┼─────────────────────────────┼─────────────────┤\n",
       "│ conv2d_33 (\u001b[38;5;33mConv2D\u001b[0m)                   │ (\u001b[38;5;45mNone\u001b[0m, \u001b[38;5;34m4\u001b[0m, \u001b[38;5;34m4\u001b[0m, \u001b[38;5;34m128\u001b[0m)           │          \u001b[38;5;34m73,856\u001b[0m │\n",
       "├──────────────────────────────────────┼─────────────────────────────┼─────────────────┤\n",
       "│ flatten_15 (\u001b[38;5;33mFlatten\u001b[0m)                 │ (\u001b[38;5;45mNone\u001b[0m, \u001b[38;5;34m2048\u001b[0m)                │               \u001b[38;5;34m0\u001b[0m │\n",
       "├──────────────────────────────────────┼─────────────────────────────┼─────────────────┤\n",
       "│ dense_50 (\u001b[38;5;33mDense\u001b[0m)                     │ (\u001b[38;5;45mNone\u001b[0m, \u001b[38;5;34m128\u001b[0m)                 │         \u001b[38;5;34m262,272\u001b[0m │\n",
       "├──────────────────────────────────────┼─────────────────────────────┼─────────────────┤\n",
       "│ dense_51 (\u001b[38;5;33mDense\u001b[0m)                     │ (\u001b[38;5;45mNone\u001b[0m, \u001b[38;5;34m10\u001b[0m)                  │           \u001b[38;5;34m1,290\u001b[0m │\n",
       "└──────────────────────────────────────┴─────────────────────────────┴─────────────────┘\n"
      ]
     },
     "metadata": {},
     "output_type": "display_data"
    },
    {
     "data": {
      "text/html": [
       "<pre style=\"white-space:pre;overflow-x:auto;line-height:normal;font-family:Menlo,'DejaVu Sans Mono',consolas,'Courier New',monospace\"><span style=\"font-weight: bold\"> Total params: </span><span style=\"color: #00af00; text-decoration-color: #00af00\">356,810</span> (1.36 MB)\n",
       "</pre>\n"
      ],
      "text/plain": [
       "\u001b[1m Total params: \u001b[0m\u001b[38;5;34m356,810\u001b[0m (1.36 MB)\n"
      ]
     },
     "metadata": {},
     "output_type": "display_data"
    },
    {
     "data": {
      "text/html": [
       "<pre style=\"white-space:pre;overflow-x:auto;line-height:normal;font-family:Menlo,'DejaVu Sans Mono',consolas,'Courier New',monospace\"><span style=\"font-weight: bold\"> Trainable params: </span><span style=\"color: #00af00; text-decoration-color: #00af00\">356,810</span> (1.36 MB)\n",
       "</pre>\n"
      ],
      "text/plain": [
       "\u001b[1m Trainable params: \u001b[0m\u001b[38;5;34m356,810\u001b[0m (1.36 MB)\n"
      ]
     },
     "metadata": {},
     "output_type": "display_data"
    },
    {
     "data": {
      "text/html": [
       "<pre style=\"white-space:pre;overflow-x:auto;line-height:normal;font-family:Menlo,'DejaVu Sans Mono',consolas,'Courier New',monospace\"><span style=\"font-weight: bold\"> Non-trainable params: </span><span style=\"color: #00af00; text-decoration-color: #00af00\">0</span> (0.00 B)\n",
       "</pre>\n"
      ],
      "text/plain": [
       "\u001b[1m Non-trainable params: \u001b[0m\u001b[38;5;34m0\u001b[0m (0.00 B)\n"
      ]
     },
     "metadata": {},
     "output_type": "display_data"
    },
    {
     "name": "stdout",
     "output_type": "stream",
     "text": [
      "Total number of parameters: 356810\n",
      "Model size: 1.36 MB\n",
      "Total FLOPs: 10,751,228 FLOPs\n",
      "Inference time on a 1 GFLOP CPU: 0.010751 seconds\n"
     ]
    }
   ],
   "source": [
    "import tensorflow as tf\n",
    "from tensorflow.keras import layers, models\n",
    "\n",
    "# Define the CNN model\n",
    "def build_cnn_model():\n",
    "    model = models.Sequential([\n",
    "        layers.Conv2D(32, (3, 3), activation='relu', input_shape=(32, 32, 3)),\n",
    "        layers.MaxPooling2D((2, 2)),\n",
    "        layers.Conv2D(64, (3, 3), activation='relu'),\n",
    "        layers.MaxPooling2D((2, 2)),\n",
    "        layers.Conv2D(128, (3, 3), activation='relu'),\n",
    "        layers.Flatten(),\n",
    "        layers.Dense(128, activation='relu'),\n",
    "        layers.Dense(10, activation='softmax')\n",
    "    ])\n",
    "    return model\n",
    "\n",
    "# Build and summarize the CNN model\n",
    "model = build_cnn_model()\n",
    "model.summary()\n",
    "\n",
    "# Compute the total number of parameters\n",
    "total_params = model.count_params()\n",
    "print(f\"Total number of parameters: {total_params}\")\n",
    "\n",
    "# Compute the model size (in MB)\n",
    "bytes_per_param = 4  # Assuming 32-bit floats (4 bytes per parameter)\n",
    "model_size_mb = (total_params * bytes_per_param) / (1024 * 1024)\n",
    "print(f\"Model size: {model_size_mb:.2f} MB\")\n",
    "\n",
    "# Compute FLOPs using TensorFlow Profiler\n",
    "def get_flops(model):\n",
    "    # Convert the Keras model to a TensorFlow concrete function\n",
    "    concrete_func = tf.function(lambda x: model(x))\n",
    "    concrete_func = concrete_func.get_concrete_function(\n",
    "        tf.TensorSpec([1, 32, 32, 3], tf.float32)\n",
    "    )\n",
    "\n",
    "    # Use TensorFlow profiler to calculate FLOPs\n",
    "    from tensorflow.python.profiler import model_analyzer\n",
    "    from tensorflow.python.profiler.option_builder import ProfileOptionBuilder\n",
    "\n",
    "    options = ProfileOptionBuilder.float_operation()\n",
    "    graph_info = model_analyzer.profile(\n",
    "        graph=concrete_func.graph, options=options\n",
    "    )\n",
    "\n",
    "    return graph_info.total_float_ops\n",
    "\n",
    "flops = get_flops(model)\n",
    "print(f\"Total FLOPs: {flops:,} FLOPs\")\n",
    "\n",
    "# Compute the inference time for a 1 GFLOP CPU\n",
    "cpu_flops_per_second = 1_000_000_000  # 1 GFLOP per second\n",
    "inference_time_seconds = flops / cpu_flops_per_second\n",
    "print(f\"Inference time on a 1 GFLOP CPU: {inference_time_seconds:.6f} seconds\")\n"
   ]
  },
  {
   "cell_type": "markdown",
   "id": "81bd615b-8d3f-40a3-b174-e2879460c4c3",
   "metadata": {},
   "source": [
    "## Output Shape of 3DCNN\n",
    "\n",
    "<img src=\"13.png\" width=\"400\" height=\"300\">\n",
    "<img src=\"14.png\" width=\"400\" height=\"300\">\n",
    "\n",
    "\n",
    "\n",
    "\n",
    "\n",
    "\n",
    "### 3DCNN parameters calculations\n",
    "<img src=\"7.png\" width=\"900\" height=\"700\">\n"
   ]
  },
  {
   "attachments": {},
   "cell_type": "markdown",
   "id": "c329993c-6a36-493f-9e05-b4ee86005753",
   "metadata": {},
   "source": [
    "### 3DCNN FLOPs calculations\n",
    "\n",
    "<img src=\"8.png\" width=\"900\" height=\"700\">\n",
    "\n",
    "\n",
    "\n",
    "### 3DCNN FLOPs calculation for Pooling Layers \n",
    "<img src=\"15.png\" width=\"900\" height=\"700\">\n"
   ]
  },
  {
   "attachments": {},
   "cell_type": "markdown",
   "id": "57e700ae-b194-434f-826c-1e8183acc37e",
   "metadata": {},
   "source": [
    "# Question-5\n",
    "\n",
    "You are tasked with designing a 3D Convolutional Neural Network (3D CNN) to classify video clips into one of five categories, such as walking, running, jumping, swimming, and cycling. Each video clip consists of 16 frames of size 64x64, and the data has a single channel (grayscale). The model should include two 3D convolutional layers followed by max-pooling layers, a flattening layer, and fully connected dense layers. Specifically, the architecture should satisfy the following requirements:\n",
    "\n",
    "The input layer should accept a shape of (16, 64, 64, 1) corresponding to the temporal, height, width, and channel dimensions.\n",
    "The first 3D convolutional layer should have 32 filters of size (3, 3, 3) and use ReLU activation.\n",
    "The first max-pooling layer should have a pool size of (2, 2, 2) to downsample the feature maps.\n",
    "The second 3D convolutional layer should have 64 filters of size (3, 3, 3) and use ReLU activation.\n",
    "The second max-pooling layer should again have a pool size of (2, 2, 2).\n",
    "The flattened layer should connect to a dense layer with 128 neurons using ReLU activation, followed by the output layer with 5 neurons and a softmax activation.\n",
    "Design and implement this 3D CNN architecture, compute the number of parameters for each layer, compute the model size and compute the FLOPs.\n",
    "\n",
    "\n",
    "\n",
    "\n",
    "\n"
   ]
  },
  {
   "cell_type": "code",
   "execution_count": 31,
   "id": "6dee948f-5288-4fbc-b995-443a3d975263",
   "metadata": {},
   "outputs": [
    {
     "data": {
      "text/html": [
       "<pre style=\"white-space:pre;overflow-x:auto;line-height:normal;font-family:Menlo,'DejaVu Sans Mono',consolas,'Courier New',monospace\"><span style=\"font-weight: bold\">Model: \"sequential_27\"</span>\n",
       "</pre>\n"
      ],
      "text/plain": [
       "\u001b[1mModel: \"sequential_27\"\u001b[0m\n"
      ]
     },
     "metadata": {},
     "output_type": "display_data"
    },
    {
     "data": {
      "text/html": [
       "<pre style=\"white-space:pre;overflow-x:auto;line-height:normal;font-family:Menlo,'DejaVu Sans Mono',consolas,'Courier New',monospace\">┏━━━━━━━━━━━━━━━━━━━━━━━━━━━━━━━━━━━━━━┳━━━━━━━━━━━━━━━━━━━━━━━━━━━━━┳━━━━━━━━━━━━━━━━━┓\n",
       "┃<span style=\"font-weight: bold\"> Layer (type)                         </span>┃<span style=\"font-weight: bold\"> Output Shape                </span>┃<span style=\"font-weight: bold\">         Param # </span>┃\n",
       "┡━━━━━━━━━━━━━━━━━━━━━━━━━━━━━━━━━━━━━━╇━━━━━━━━━━━━━━━━━━━━━━━━━━━━━╇━━━━━━━━━━━━━━━━━┩\n",
       "│ conv3d_2 (<span style=\"color: #0087ff; text-decoration-color: #0087ff\">Conv3D</span>)                    │ (<span style=\"color: #00d7ff; text-decoration-color: #00d7ff\">None</span>, <span style=\"color: #00af00; text-decoration-color: #00af00\">14</span>, <span style=\"color: #00af00; text-decoration-color: #00af00\">62</span>, <span style=\"color: #00af00; text-decoration-color: #00af00\">62</span>, <span style=\"color: #00af00; text-decoration-color: #00af00\">32</span>)      │             <span style=\"color: #00af00; text-decoration-color: #00af00\">896</span> │\n",
       "├──────────────────────────────────────┼─────────────────────────────┼─────────────────┤\n",
       "│ max_pooling3d_2 (<span style=\"color: #0087ff; text-decoration-color: #0087ff\">MaxPooling3D</span>)       │ (<span style=\"color: #00d7ff; text-decoration-color: #00d7ff\">None</span>, <span style=\"color: #00af00; text-decoration-color: #00af00\">7</span>, <span style=\"color: #00af00; text-decoration-color: #00af00\">31</span>, <span style=\"color: #00af00; text-decoration-color: #00af00\">31</span>, <span style=\"color: #00af00; text-decoration-color: #00af00\">32</span>)       │               <span style=\"color: #00af00; text-decoration-color: #00af00\">0</span> │\n",
       "├──────────────────────────────────────┼─────────────────────────────┼─────────────────┤\n",
       "│ conv3d_3 (<span style=\"color: #0087ff; text-decoration-color: #0087ff\">Conv3D</span>)                    │ (<span style=\"color: #00d7ff; text-decoration-color: #00d7ff\">None</span>, <span style=\"color: #00af00; text-decoration-color: #00af00\">5</span>, <span style=\"color: #00af00; text-decoration-color: #00af00\">29</span>, <span style=\"color: #00af00; text-decoration-color: #00af00\">29</span>, <span style=\"color: #00af00; text-decoration-color: #00af00\">64</span>)       │          <span style=\"color: #00af00; text-decoration-color: #00af00\">55,360</span> │\n",
       "├──────────────────────────────────────┼─────────────────────────────┼─────────────────┤\n",
       "│ max_pooling3d_3 (<span style=\"color: #0087ff; text-decoration-color: #0087ff\">MaxPooling3D</span>)       │ (<span style=\"color: #00d7ff; text-decoration-color: #00d7ff\">None</span>, <span style=\"color: #00af00; text-decoration-color: #00af00\">2</span>, <span style=\"color: #00af00; text-decoration-color: #00af00\">14</span>, <span style=\"color: #00af00; text-decoration-color: #00af00\">14</span>, <span style=\"color: #00af00; text-decoration-color: #00af00\">64</span>)       │               <span style=\"color: #00af00; text-decoration-color: #00af00\">0</span> │\n",
       "├──────────────────────────────────────┼─────────────────────────────┼─────────────────┤\n",
       "│ flatten_17 (<span style=\"color: #0087ff; text-decoration-color: #0087ff\">Flatten</span>)                 │ (<span style=\"color: #00d7ff; text-decoration-color: #00d7ff\">None</span>, <span style=\"color: #00af00; text-decoration-color: #00af00\">25088</span>)               │               <span style=\"color: #00af00; text-decoration-color: #00af00\">0</span> │\n",
       "├──────────────────────────────────────┼─────────────────────────────┼─────────────────┤\n",
       "│ dense_57 (<span style=\"color: #0087ff; text-decoration-color: #0087ff\">Dense</span>)                     │ (<span style=\"color: #00d7ff; text-decoration-color: #00d7ff\">None</span>, <span style=\"color: #00af00; text-decoration-color: #00af00\">128</span>)                 │       <span style=\"color: #00af00; text-decoration-color: #00af00\">3,211,392</span> │\n",
       "├──────────────────────────────────────┼─────────────────────────────┼─────────────────┤\n",
       "│ dense_58 (<span style=\"color: #0087ff; text-decoration-color: #0087ff\">Dense</span>)                     │ (<span style=\"color: #00d7ff; text-decoration-color: #00d7ff\">None</span>, <span style=\"color: #00af00; text-decoration-color: #00af00\">5</span>)                   │             <span style=\"color: #00af00; text-decoration-color: #00af00\">645</span> │\n",
       "└──────────────────────────────────────┴─────────────────────────────┴─────────────────┘\n",
       "</pre>\n"
      ],
      "text/plain": [
       "┏━━━━━━━━━━━━━━━━━━━━━━━━━━━━━━━━━━━━━━┳━━━━━━━━━━━━━━━━━━━━━━━━━━━━━┳━━━━━━━━━━━━━━━━━┓\n",
       "┃\u001b[1m \u001b[0m\u001b[1mLayer (type)                        \u001b[0m\u001b[1m \u001b[0m┃\u001b[1m \u001b[0m\u001b[1mOutput Shape               \u001b[0m\u001b[1m \u001b[0m┃\u001b[1m \u001b[0m\u001b[1m        Param #\u001b[0m\u001b[1m \u001b[0m┃\n",
       "┡━━━━━━━━━━━━━━━━━━━━━━━━━━━━━━━━━━━━━━╇━━━━━━━━━━━━━━━━━━━━━━━━━━━━━╇━━━━━━━━━━━━━━━━━┩\n",
       "│ conv3d_2 (\u001b[38;5;33mConv3D\u001b[0m)                    │ (\u001b[38;5;45mNone\u001b[0m, \u001b[38;5;34m14\u001b[0m, \u001b[38;5;34m62\u001b[0m, \u001b[38;5;34m62\u001b[0m, \u001b[38;5;34m32\u001b[0m)      │             \u001b[38;5;34m896\u001b[0m │\n",
       "├──────────────────────────────────────┼─────────────────────────────┼─────────────────┤\n",
       "│ max_pooling3d_2 (\u001b[38;5;33mMaxPooling3D\u001b[0m)       │ (\u001b[38;5;45mNone\u001b[0m, \u001b[38;5;34m7\u001b[0m, \u001b[38;5;34m31\u001b[0m, \u001b[38;5;34m31\u001b[0m, \u001b[38;5;34m32\u001b[0m)       │               \u001b[38;5;34m0\u001b[0m │\n",
       "├──────────────────────────────────────┼─────────────────────────────┼─────────────────┤\n",
       "│ conv3d_3 (\u001b[38;5;33mConv3D\u001b[0m)                    │ (\u001b[38;5;45mNone\u001b[0m, \u001b[38;5;34m5\u001b[0m, \u001b[38;5;34m29\u001b[0m, \u001b[38;5;34m29\u001b[0m, \u001b[38;5;34m64\u001b[0m)       │          \u001b[38;5;34m55,360\u001b[0m │\n",
       "├──────────────────────────────────────┼─────────────────────────────┼─────────────────┤\n",
       "│ max_pooling3d_3 (\u001b[38;5;33mMaxPooling3D\u001b[0m)       │ (\u001b[38;5;45mNone\u001b[0m, \u001b[38;5;34m2\u001b[0m, \u001b[38;5;34m14\u001b[0m, \u001b[38;5;34m14\u001b[0m, \u001b[38;5;34m64\u001b[0m)       │               \u001b[38;5;34m0\u001b[0m │\n",
       "├──────────────────────────────────────┼─────────────────────────────┼─────────────────┤\n",
       "│ flatten_17 (\u001b[38;5;33mFlatten\u001b[0m)                 │ (\u001b[38;5;45mNone\u001b[0m, \u001b[38;5;34m25088\u001b[0m)               │               \u001b[38;5;34m0\u001b[0m │\n",
       "├──────────────────────────────────────┼─────────────────────────────┼─────────────────┤\n",
       "│ dense_57 (\u001b[38;5;33mDense\u001b[0m)                     │ (\u001b[38;5;45mNone\u001b[0m, \u001b[38;5;34m128\u001b[0m)                 │       \u001b[38;5;34m3,211,392\u001b[0m │\n",
       "├──────────────────────────────────────┼─────────────────────────────┼─────────────────┤\n",
       "│ dense_58 (\u001b[38;5;33mDense\u001b[0m)                     │ (\u001b[38;5;45mNone\u001b[0m, \u001b[38;5;34m5\u001b[0m)                   │             \u001b[38;5;34m645\u001b[0m │\n",
       "└──────────────────────────────────────┴─────────────────────────────┴─────────────────┘\n"
      ]
     },
     "metadata": {},
     "output_type": "display_data"
    },
    {
     "data": {
      "text/html": [
       "<pre style=\"white-space:pre;overflow-x:auto;line-height:normal;font-family:Menlo,'DejaVu Sans Mono',consolas,'Courier New',monospace\"><span style=\"font-weight: bold\"> Total params: </span><span style=\"color: #00af00; text-decoration-color: #00af00\">3,268,293</span> (12.47 MB)\n",
       "</pre>\n"
      ],
      "text/plain": [
       "\u001b[1m Total params: \u001b[0m\u001b[38;5;34m3,268,293\u001b[0m (12.47 MB)\n"
      ]
     },
     "metadata": {},
     "output_type": "display_data"
    },
    {
     "data": {
      "text/html": [
       "<pre style=\"white-space:pre;overflow-x:auto;line-height:normal;font-family:Menlo,'DejaVu Sans Mono',consolas,'Courier New',monospace\"><span style=\"font-weight: bold\"> Trainable params: </span><span style=\"color: #00af00; text-decoration-color: #00af00\">3,268,293</span> (12.47 MB)\n",
       "</pre>\n"
      ],
      "text/plain": [
       "\u001b[1m Trainable params: \u001b[0m\u001b[38;5;34m3,268,293\u001b[0m (12.47 MB)\n"
      ]
     },
     "metadata": {},
     "output_type": "display_data"
    },
    {
     "data": {
      "text/html": [
       "<pre style=\"white-space:pre;overflow-x:auto;line-height:normal;font-family:Menlo,'DejaVu Sans Mono',consolas,'Courier New',monospace\"><span style=\"font-weight: bold\"> Non-trainable params: </span><span style=\"color: #00af00; text-decoration-color: #00af00\">0</span> (0.00 B)\n",
       "</pre>\n"
      ],
      "text/plain": [
       "\u001b[1m Non-trainable params: \u001b[0m\u001b[38;5;34m0\u001b[0m (0.00 B)\n"
      ]
     },
     "metadata": {},
     "output_type": "display_data"
    },
    {
     "name": "stdout",
     "output_type": "stream",
     "text": [
      "Total number of parameters: 3268293\n",
      "Model size: 12.47 MB\n",
      "Total FLOPs: 566,448,606 FLOPs\n",
      "Inference time on a 1 GFLOP CPU: 0.566449 seconds\n"
     ]
    }
   ],
   "source": [
    "### Write  your code here \n",
    "import tensorflow as tf\n",
    "from tensorflow.keras import layers, models\n",
    "\n",
    "# Define the 3D CNN architecture\n",
    "def build_3d_cnn_model():\n",
    "    model = models.Sequential([\n",
    "        # First 3D Convolutional layer\n",
    "        layers.Conv3D(32, (3, 3, 3), activation='relu', input_shape=(16, 64, 64, 1)),\n",
    "        layers.MaxPooling3D((2, 2, 2)),\n",
    "        \n",
    "        # Second 3D Convolutional layer\n",
    "        layers.Conv3D(64, (3, 3, 3), activation='relu'),\n",
    "        layers.MaxPooling3D((2, 2, 2)),\n",
    "\n",
    "        # Flatten layer\n",
    "        layers.Flatten(),\n",
    "        \n",
    "        # Fully connected dense layers\n",
    "        layers.Dense(128, activation='relu'),\n",
    "        layers.Dense(5, activation='softmax')\n",
    "    ])\n",
    "    \n",
    "    return model\n",
    "\n",
    "# Build and summarize the 3D CNN model\n",
    "model = build_3d_cnn_model()\n",
    "model.summary()\n",
    "\n",
    "# Compute the total number of parameters\n",
    "total_params = model.count_params()\n",
    "print(f\"Total number of parameters: {total_params}\")\n",
    "\n",
    "bytes_per_param = 4  # Assuming 32-bit floats (4 bytes per parameter)\n",
    "model_size_mb = (total_params * bytes_per_param) / (1024 * 1024)\n",
    "print(f\"Model size: {model_size_mb:.2f} MB\")\n",
    "\n",
    "# Compute FLOPs using TensorFlow Profiler\n",
    "def get_flops(model):\n",
    "    concrete_func = tf.function(lambda x: model(x))\n",
    "    concrete_func = concrete_func.get_concrete_function(\n",
    "        tf.TensorSpec([1, 16, 64, 64, 1], tf.float32)\n",
    "    )\n",
    "\n",
    "    # TensorFlow Profiler\n",
    "    from tensorflow.python.profiler import model_analyzer\n",
    "    from tensorflow.python.profiler.option_builder import ProfileOptionBuilder\n",
    "\n",
    "    options = ProfileOptionBuilder.float_operation()\n",
    "    graph_info = model_analyzer.profile(\n",
    "        graph=concrete_func.graph, options=options\n",
    "    )\n",
    "\n",
    "    return graph_info.total_float_ops\n",
    "\n",
    "flops = get_flops(model)\n",
    "print(f\"Total FLOPs: {flops:,} FLOPs\")\n",
    "\n",
    "# Compute the inference time for a 1 GFLOP CPU\n",
    "cpu_flops_per_second = 1_000_000_000  # 1 GFLOP per second\n",
    "inference_time_seconds = flops / cpu_flops_per_second\n",
    "print(f\"Inference time on a 1 GFLOP CPU: {inference_time_seconds:.6f} seconds\")"
   ]
  },
  {
   "attachments": {},
   "cell_type": "markdown",
   "id": "d0457d1f-bca5-405f-8dd3-2fbc26dd7038",
   "metadata": {},
   "source": [
    "# Question-6\n",
    "\n",
    "A company is building a system to predict customer sentiment (positive or negative) based on a sequence of customer reviews. \n",
    "Each review is represented as a feature vector of size 4, where each feature corresponds to a specific aspect of the review, such as tone, length, and keyword presence. To process this sequential data, the team decides to use a Recurrent Neural Network (RNN).\n",
    "\n",
    "The input size n<sub>x</sub> is 4, meaning each input vector x<sup>t</sup> has 4 features.  \n",
    "The hidden layer has 3 hidden units n<sub>a</sub>=3.  \n",
    "The output size n<sub>y</sub> is 2, corresponding to the two possible sentiment classes (positive or negative).  \n",
    "The sequence length T<sub>x</sub> is 5, meaning the RNN will process a sequence of 5 reviews at a time.\n",
    "use sigmoid activation functions in the output layers and compute the number of parameters and memory in the RNN model.\n",
    "\n",
    "\n",
    "\n",
    "\n",
    "<img src=\"9.png\" width=\"300\" height=\"100\">\n",
    "\n",
    "\n",
    "Number of parameter of RNN = g × [a(a+i) + a]\n",
    "\n",
    "a --> hidden unit\n",
    "\n",
    "i ---> input unit\n",
    "\n"
   ]
  },
  {
   "cell_type": "code",
   "execution_count": 27,
   "id": "e77c1ac0-6a30-46c5-93d8-e78f34284ae6",
   "metadata": {},
   "outputs": [
    {
     "data": {
      "text/html": [
       "<pre style=\"white-space:pre;overflow-x:auto;line-height:normal;font-family:Menlo,'DejaVu Sans Mono',consolas,'Courier New',monospace\"><span style=\"font-weight: bold\">Model: \"sequential_26\"</span>\n",
       "</pre>\n"
      ],
      "text/plain": [
       "\u001b[1mModel: \"sequential_26\"\u001b[0m\n"
      ]
     },
     "metadata": {},
     "output_type": "display_data"
    },
    {
     "data": {
      "text/html": [
       "<pre style=\"white-space:pre;overflow-x:auto;line-height:normal;font-family:Menlo,'DejaVu Sans Mono',consolas,'Courier New',monospace\">┏━━━━━━━━━━━━━━━━━━━━━━━━━━━━━━━━━━━━━━┳━━━━━━━━━━━━━━━━━━━━━━━━━━━━━┳━━━━━━━━━━━━━━━━━┓\n",
       "┃<span style=\"font-weight: bold\"> Layer (type)                         </span>┃<span style=\"font-weight: bold\"> Output Shape                </span>┃<span style=\"font-weight: bold\">         Param # </span>┃\n",
       "┡━━━━━━━━━━━━━━━━━━━━━━━━━━━━━━━━━━━━━━╇━━━━━━━━━━━━━━━━━━━━━━━━━━━━━╇━━━━━━━━━━━━━━━━━┩\n",
       "│ simple_rnn_2 (<span style=\"color: #0087ff; text-decoration-color: #0087ff\">SimpleRNN</span>)             │ (<span style=\"color: #00d7ff; text-decoration-color: #00d7ff\">None</span>, <span style=\"color: #00af00; text-decoration-color: #00af00\">3</span>)                   │              <span style=\"color: #00af00; text-decoration-color: #00af00\">24</span> │\n",
       "├──────────────────────────────────────┼─────────────────────────────┼─────────────────┤\n",
       "│ dense_56 (<span style=\"color: #0087ff; text-decoration-color: #0087ff\">Dense</span>)                     │ (<span style=\"color: #00d7ff; text-decoration-color: #00d7ff\">None</span>, <span style=\"color: #00af00; text-decoration-color: #00af00\">2</span>)                   │               <span style=\"color: #00af00; text-decoration-color: #00af00\">8</span> │\n",
       "└──────────────────────────────────────┴─────────────────────────────┴─────────────────┘\n",
       "</pre>\n"
      ],
      "text/plain": [
       "┏━━━━━━━━━━━━━━━━━━━━━━━━━━━━━━━━━━━━━━┳━━━━━━━━━━━━━━━━━━━━━━━━━━━━━┳━━━━━━━━━━━━━━━━━┓\n",
       "┃\u001b[1m \u001b[0m\u001b[1mLayer (type)                        \u001b[0m\u001b[1m \u001b[0m┃\u001b[1m \u001b[0m\u001b[1mOutput Shape               \u001b[0m\u001b[1m \u001b[0m┃\u001b[1m \u001b[0m\u001b[1m        Param #\u001b[0m\u001b[1m \u001b[0m┃\n",
       "┡━━━━━━━━━━━━━━━━━━━━━━━━━━━━━━━━━━━━━━╇━━━━━━━━━━━━━━━━━━━━━━━━━━━━━╇━━━━━━━━━━━━━━━━━┩\n",
       "│ simple_rnn_2 (\u001b[38;5;33mSimpleRNN\u001b[0m)             │ (\u001b[38;5;45mNone\u001b[0m, \u001b[38;5;34m3\u001b[0m)                   │              \u001b[38;5;34m24\u001b[0m │\n",
       "├──────────────────────────────────────┼─────────────────────────────┼─────────────────┤\n",
       "│ dense_56 (\u001b[38;5;33mDense\u001b[0m)                     │ (\u001b[38;5;45mNone\u001b[0m, \u001b[38;5;34m2\u001b[0m)                   │               \u001b[38;5;34m8\u001b[0m │\n",
       "└──────────────────────────────────────┴─────────────────────────────┴─────────────────┘\n"
      ]
     },
     "metadata": {},
     "output_type": "display_data"
    },
    {
     "data": {
      "text/html": [
       "<pre style=\"white-space:pre;overflow-x:auto;line-height:normal;font-family:Menlo,'DejaVu Sans Mono',consolas,'Courier New',monospace\"><span style=\"font-weight: bold\"> Total params: </span><span style=\"color: #00af00; text-decoration-color: #00af00\">32</span> (128.00 B)\n",
       "</pre>\n"
      ],
      "text/plain": [
       "\u001b[1m Total params: \u001b[0m\u001b[38;5;34m32\u001b[0m (128.00 B)\n"
      ]
     },
     "metadata": {},
     "output_type": "display_data"
    },
    {
     "data": {
      "text/html": [
       "<pre style=\"white-space:pre;overflow-x:auto;line-height:normal;font-family:Menlo,'DejaVu Sans Mono',consolas,'Courier New',monospace\"><span style=\"font-weight: bold\"> Trainable params: </span><span style=\"color: #00af00; text-decoration-color: #00af00\">32</span> (128.00 B)\n",
       "</pre>\n"
      ],
      "text/plain": [
       "\u001b[1m Trainable params: \u001b[0m\u001b[38;5;34m32\u001b[0m (128.00 B)\n"
      ]
     },
     "metadata": {},
     "output_type": "display_data"
    },
    {
     "data": {
      "text/html": [
       "<pre style=\"white-space:pre;overflow-x:auto;line-height:normal;font-family:Menlo,'DejaVu Sans Mono',consolas,'Courier New',monospace\"><span style=\"font-weight: bold\"> Non-trainable params: </span><span style=\"color: #00af00; text-decoration-color: #00af00\">0</span> (0.00 B)\n",
       "</pre>\n"
      ],
      "text/plain": [
       "\u001b[1m Non-trainable params: \u001b[0m\u001b[38;5;34m0\u001b[0m (0.00 B)\n"
      ]
     },
     "metadata": {},
     "output_type": "display_data"
    },
    {
     "name": "stdout",
     "output_type": "stream",
     "text": [
      "RNN Layer Parameters: 24\n",
      "Output Layer Parameters: 8\n",
      "Total Parameters: 32\n",
      "Memory Requirement: 128 bytes (0.125 KB)\n",
      "RNN FLOPs: 45\n",
      "Output Layer FLOPs: 14\n",
      "Total FLOPs: 59\n"
     ]
    }
   ],
   "source": [
    "import tensorflow as tf\n",
    "from tensorflow.keras import Sequential\n",
    "from tensorflow.keras.layers import SimpleRNN, Dense\n",
    "\n",
    "input_size = 4 \n",
    "hidden_units = 3\n",
    "output_size = 2 \n",
    "sequence_length = 5 \n",
    "\n",
    "model = Sequential([\n",
    "    SimpleRNN(hidden_units, activation='relu', input_shape=(sequence_length, input_size)),\n",
    "    Dense(output_size, activation='sigmoid')\n",
    "])\n",
    "\n",
    "model.summary()\n",
    "\n",
    "# Compute Number of Parameters\n",
    "rnn_params = hidden_units * (hidden_units + input_size) + hidden_units\n",
    "output_params = hidden_units * output_size + output_size \n",
    "total_params = rnn_params + output_params\n",
    "\n",
    "print(f\"RNN Layer Parameters: {rnn_params}\")\n",
    "print(f\"Output Layer Parameters: {output_params}\")\n",
    "print(f\"Total Parameters: {total_params}\")\n",
    "\n",
    "memory_bytes = total_params * 4\n",
    "memory_kb = memory_bytes / 1024\n",
    "\n",
    "print(f\"Memory Requirement: {memory_bytes} bytes ({memory_kb:.3f} KB)\")\n",
    "\n",
    "# FLOPs for RNN: 2 * (hidden_units * (hidden_units + input_size)) + hidden_units\n",
    "rnn_flops = 2 * (hidden_units * (hidden_units + input_size)) + hidden_units\n",
    "output_flops = 2 * (hidden_units * output_size) + output_size  # FLOPs for Dense layer\n",
    "total_flops = rnn_flops + output_flops\n",
    "\n",
    "print(f\"RNN FLOPs: {rnn_flops}\")\n",
    "print(f\"Output Layer FLOPs: {output_flops}\")\n",
    "print(f\"Total FLOPs: {total_flops}\")\n"
   ]
  },
  {
   "cell_type": "markdown",
   "id": "1933955e-5b05-4e2e-9b36-27b5190fea54",
   "metadata": {},
   "source": [
    "# Question 7\n",
    "\n",
    "Write a Python code to implement a single LSTM unit for the follwoing and compute the parameter of the follwoing model using Keras.\n",
    "    \n",
    "<img src=\"https://github.com/kmkarakaya/ML_tutorials/blob/master/images/LSTM_internal2.png?raw=true\" width=\"500\">\n",
    "\n",
    "\n",
    " Notice that we can guess the size (shape) of W,U and b given:\n",
    " * Input size ($h_{t-1}$ and $x_{t}$ )\n",
    " * Output size ($h_{t-1}$)\n",
    "\n",
    " Since output must equal to Hidden State (hx1) size:\n",
    "\n",
    "  * for W param =  ($h$ × $x$)\n",
    "  * for U param =  ($h$ × $h$)\n",
    "  * for Biases  param =   $h$\n",
    "\n",
    " * total params = W param + U param + Biases param\n",
    "  \n",
    "    =  ($h$ × $x$) +  ($h$ × $h$) +  $h$\n",
    "\n",
    "    =  ( ($h$ × $x$) +  ($h$ × $h$) +   $h$ )\n",
    "\n",
    "    =  ( ($x$ + $h$) ×  $h$  +   $h$ )\n",
    "\n",
    "* there are 4 functions which are exactly defined in the same way, in the LSTM layer, there will be\n",
    "\n",
    " ##   **LSTM parameter number = 4 × (($x$ + $h$) × $h$ +$h$)**\n",
    "\n"
   ]
  },
  {
   "cell_type": "code",
   "execution_count": 26,
   "id": "32110225-3e3a-482c-a850-835920d0fda8",
   "metadata": {},
   "outputs": [
    {
     "data": {
      "text/html": [
       "<pre style=\"white-space:pre;overflow-x:auto;line-height:normal;font-family:Menlo,'DejaVu Sans Mono',consolas,'Courier New',monospace\"><span style=\"font-weight: bold\">Model: \"sequential_25\"</span>\n",
       "</pre>\n"
      ],
      "text/plain": [
       "\u001b[1mModel: \"sequential_25\"\u001b[0m\n"
      ]
     },
     "metadata": {},
     "output_type": "display_data"
    },
    {
     "data": {
      "text/html": [
       "<pre style=\"white-space:pre;overflow-x:auto;line-height:normal;font-family:Menlo,'DejaVu Sans Mono',consolas,'Courier New',monospace\">┏━━━━━━━━━━━━━━━━━━━━━━━━━━━━━━━━━━━━━━┳━━━━━━━━━━━━━━━━━━━━━━━━━━━━━┳━━━━━━━━━━━━━━━━━┓\n",
       "┃<span style=\"font-weight: bold\"> Layer (type)                         </span>┃<span style=\"font-weight: bold\"> Output Shape                </span>┃<span style=\"font-weight: bold\">         Param # </span>┃\n",
       "┡━━━━━━━━━━━━━━━━━━━━━━━━━━━━━━━━━━━━━━╇━━━━━━━━━━━━━━━━━━━━━━━━━━━━━╇━━━━━━━━━━━━━━━━━┩\n",
       "│ lstm_1 (<span style=\"color: #0087ff; text-decoration-color: #0087ff\">LSTM</span>)                        │ (<span style=\"color: #00d7ff; text-decoration-color: #00d7ff\">None</span>, <span style=\"color: #00af00; text-decoration-color: #00af00\">3</span>)                   │              <span style=\"color: #00af00; text-decoration-color: #00af00\">96</span> │\n",
       "└──────────────────────────────────────┴─────────────────────────────┴─────────────────┘\n",
       "</pre>\n"
      ],
      "text/plain": [
       "┏━━━━━━━━━━━━━━━━━━━━━━━━━━━━━━━━━━━━━━┳━━━━━━━━━━━━━━━━━━━━━━━━━━━━━┳━━━━━━━━━━━━━━━━━┓\n",
       "┃\u001b[1m \u001b[0m\u001b[1mLayer (type)                        \u001b[0m\u001b[1m \u001b[0m┃\u001b[1m \u001b[0m\u001b[1mOutput Shape               \u001b[0m\u001b[1m \u001b[0m┃\u001b[1m \u001b[0m\u001b[1m        Param #\u001b[0m\u001b[1m \u001b[0m┃\n",
       "┡━━━━━━━━━━━━━━━━━━━━━━━━━━━━━━━━━━━━━━╇━━━━━━━━━━━━━━━━━━━━━━━━━━━━━╇━━━━━━━━━━━━━━━━━┩\n",
       "│ lstm_1 (\u001b[38;5;33mLSTM\u001b[0m)                        │ (\u001b[38;5;45mNone\u001b[0m, \u001b[38;5;34m3\u001b[0m)                   │              \u001b[38;5;34m96\u001b[0m │\n",
       "└──────────────────────────────────────┴─────────────────────────────┴─────────────────┘\n"
      ]
     },
     "metadata": {},
     "output_type": "display_data"
    },
    {
     "data": {
      "text/html": [
       "<pre style=\"white-space:pre;overflow-x:auto;line-height:normal;font-family:Menlo,'DejaVu Sans Mono',consolas,'Courier New',monospace\"><span style=\"font-weight: bold\"> Total params: </span><span style=\"color: #00af00; text-decoration-color: #00af00\">96</span> (384.00 B)\n",
       "</pre>\n"
      ],
      "text/plain": [
       "\u001b[1m Total params: \u001b[0m\u001b[38;5;34m96\u001b[0m (384.00 B)\n"
      ]
     },
     "metadata": {},
     "output_type": "display_data"
    },
    {
     "data": {
      "text/html": [
       "<pre style=\"white-space:pre;overflow-x:auto;line-height:normal;font-family:Menlo,'DejaVu Sans Mono',consolas,'Courier New',monospace\"><span style=\"font-weight: bold\"> Trainable params: </span><span style=\"color: #00af00; text-decoration-color: #00af00\">96</span> (384.00 B)\n",
       "</pre>\n"
      ],
      "text/plain": [
       "\u001b[1m Trainable params: \u001b[0m\u001b[38;5;34m96\u001b[0m (384.00 B)\n"
      ]
     },
     "metadata": {},
     "output_type": "display_data"
    },
    {
     "data": {
      "text/html": [
       "<pre style=\"white-space:pre;overflow-x:auto;line-height:normal;font-family:Menlo,'DejaVu Sans Mono',consolas,'Courier New',monospace\"><span style=\"font-weight: bold\"> Non-trainable params: </span><span style=\"color: #00af00; text-decoration-color: #00af00\">0</span> (0.00 B)\n",
       "</pre>\n"
      ],
      "text/plain": [
       "\u001b[1m Non-trainable params: \u001b[0m\u001b[38;5;34m0\u001b[0m (0.00 B)\n"
      ]
     },
     "metadata": {},
     "output_type": "display_data"
    },
    {
     "name": "stdout",
     "output_type": "stream",
     "text": [
      "Computed LSTM Parameters: 96\n",
      "Keras Model Parameters: 96\n"
     ]
    }
   ],
   "source": [
    "from tensorflow.keras.layers import LSTM\n",
    "from tensorflow.keras.models import Sequential\n",
    "\n",
    "input_size = 4 \n",
    "hidden_size = 3  \n",
    "\n",
    "model = Sequential([\n",
    "    LSTM(hidden_size, input_shape=(1, input_size))\n",
    "])\n",
    "\n",
    "model.summary()\n",
    "\n",
    "lstm_params = 4 * ((input_size + hidden_size) * hidden_size + hidden_size)\n",
    "print(f\"Computed LSTM Parameters: {lstm_params}\")\n",
    "\n",
    "keras_lstm_params = model.count_params()\n",
    "print(f\"Keras Model Parameters: {keras_lstm_params}\")\n",
    "\n",
    "assert lstm_params == keras_lstm_params, \"Parameter count mismatch!\""
   ]
  },
  {
   "cell_type": "code",
   "execution_count": null,
   "id": "d4e9664b-4fc3-4db9-92c2-3013a6ee2a14",
   "metadata": {},
   "outputs": [],
   "source": []
  }
 ],
 "metadata": {
  "kernelspec": {
   "display_name": "Python 3 (ipykernel)",
   "language": "python",
   "name": "python3"
  },
  "language_info": {
   "codemirror_mode": {
    "name": "ipython",
    "version": 3
   },
   "file_extension": ".py",
   "mimetype": "text/x-python",
   "name": "python",
   "nbconvert_exporter": "python",
   "pygments_lexer": "ipython3",
   "version": "3.11.5"
  }
 },
 "nbformat": 4,
 "nbformat_minor": 5
}
